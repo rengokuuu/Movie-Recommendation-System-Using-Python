{
 "cells": [
  {
   "cell_type": "code",
   "execution_count": 2,
   "metadata": {},
   "outputs": [
    {
     "name": "stdout",
     "output_type": "stream",
     "text": [
      "Enter the emotion: Sad\n",
      "Beckett\n",
      "Eternals\n",
      "Shershaah\n",
      "The Green Knight\n",
      "CODA\n"
     ]
    }
   ],
   "source": [
    "from bs4 import BeautifulSoup as SOUP\n",
    "import re\n",
    "import requests\n",
    "   \n",
    "def main(emotion):\n",
    "  \n",
    "    if(emotion == \"Sad\"):\n",
    "        urlhere = 'http://www.imdb.com/search/title?genres=drama&title_type=feature&sort=moviemeter, asc'\n",
    "  \n",
    "    elif(emotion == \"Disgust\"):\n",
    "        urlhere = 'http://www.imdb.com/search/title?genres=musical&title_type=feature&sort=moviemeter, asc'\n",
    "  \n",
    "    elif(emotion == \"Anger\"):\n",
    "        urlhere = 'http://www.imdb.com/search/title?genres=family&title_type=feature&sort=moviemeter, asc'\n",
    "  \n",
    "    elif(emotion == \"Anticipation\"):\n",
    "        urlhere = 'http://www.imdb.com/search/title?genres=thriller&title_type=feature&sort=moviemeter, asc'\n",
    "  \n",
    "    elif(emotion == \"Fear\"):\n",
    "        urlhere = 'http://www.imdb.com/search/title?genres=sport&title_type=feature&sort=moviemeter, asc'\n",
    "  \n",
    "    elif(emotion == \"Enjoyment\"):\n",
    "        urlhere = 'http://www.imdb.com/search/title?genres=thriller&title_type=feature&sort=moviemeter, asc'\n",
    "  \n",
    "    elif(emotion == \"Trust\"):\n",
    "        urlhere = 'http://www.imdb.com/search/title?genres=western&title_type=feature&sort=moviemeter, asc'\n",
    "  \n",
    "    elif(emotion == \"Surprise\"):\n",
    "        urlhere = 'http://www.imdb.com/search/title?genres=film_noir&title_type=feature&sort=moviemeter, asc'\n",
    "  \n",
    "    response = requests.get(urlhere)\n",
    "    data = response.text\n",
    "  \n",
    "    # Parsing the data using\n",
    "    # BeautifulSoup\n",
    "    soup = SOUP(data, \"lxml\")\n",
    "  \n",
    "    # Extract movie titles from the\n",
    "    # data using regex\n",
    "    title = soup.find_all(\"a\", attrs = {\"href\" : re.compile(r'\\/title\\/tt+\\d*\\/')})\n",
    "    return title\n",
    "  \n",
    "# Driver Function\n",
    "if __name__ == '__main__':\n",
    "  \n",
    "    emotion = input(\"Enter the emotion: \")\n",
    "    a = main(emotion)\n",
    "    count = 0\n",
    "  \n",
    "    if(emotion == \"Disgust\" or emotion == \"Anger\"\n",
    "                           or emotion==\"Surprise\"):\n",
    "  \n",
    "        for i in a:\n",
    "  \n",
    "            # Splitting each line of the\n",
    "            # IMDb data to scrape movies\n",
    "            tmp = str(i).split('>;')\n",
    "  \n",
    "            if(len(tmp) == 3):\n",
    "                print(tmp[1][:-3])\n",
    "  \n",
    "            if(count > 13):\n",
    "                break\n",
    "            count += 1\n",
    "    else:\n",
    "        for i in a:\n",
    "            tmp = str(i).split('>')\n",
    "  \n",
    "            if(len(tmp) == 3):\n",
    "                print(tmp[1][:-3])\n",
    "  \n",
    "            if(count > 11):\n",
    "                break\n",
    "            count+=1"
   ]
  },
  {
   "cell_type": "code",
   "execution_count": null,
   "metadata": {},
   "outputs": [],
   "source": []
  }
 ],
 "metadata": {
  "kernelspec": {
   "display_name": "Python 3",
   "language": "python",
   "name": "python3"
  },
  "language_info": {
   "codemirror_mode": {
    "name": "ipython",
    "version": 3
   },
   "file_extension": ".py",
   "mimetype": "text/x-python",
   "name": "python",
   "nbconvert_exporter": "python",
   "pygments_lexer": "ipython3",
   "version": "3.8.5"
  }
 },
 "nbformat": 4,
 "nbformat_minor": 4
}
